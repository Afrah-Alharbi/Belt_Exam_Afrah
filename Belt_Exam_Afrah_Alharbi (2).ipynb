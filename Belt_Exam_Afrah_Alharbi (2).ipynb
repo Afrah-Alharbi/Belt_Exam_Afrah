{
  "cells": [
    {
      "cell_type": "code",
      "execution_count": null,
      "metadata": {
        "colab": {
          "base_uri": "https://localhost:8080/"
        },
        "id": "pk_5f0XnqWWN",
        "outputId": "cc2be08e-695c-42ac-ab18-53802104824b"
      },
      "outputs": [
        {
          "name": "stdout",
          "output_type": "stream",
          "text": [
            "Requirement already satisfied: yfinance in /usr/local/lib/python3.7/dist-packages (0.1.66)\n",
            "Requirement already satisfied: numpy>=1.15 in /usr/local/lib/python3.7/dist-packages (from yfinance) (1.19.5)\n",
            "Requirement already satisfied: lxml>=4.5.1 in /usr/local/lib/python3.7/dist-packages (from yfinance) (4.6.4)\n",
            "Requirement already satisfied: requests>=2.20 in /usr/local/lib/python3.7/dist-packages (from yfinance) (2.23.0)\n",
            "Requirement already satisfied: multitasking>=0.0.7 in /usr/local/lib/python3.7/dist-packages (from yfinance) (0.0.10)\n",
            "Requirement already satisfied: pandas>=0.24 in /usr/local/lib/python3.7/dist-packages (from yfinance) (1.1.5)\n",
            "Requirement already satisfied: python-dateutil>=2.7.3 in /usr/local/lib/python3.7/dist-packages (from pandas>=0.24->yfinance) (2.8.2)\n",
            "Requirement already satisfied: pytz>=2017.2 in /usr/local/lib/python3.7/dist-packages (from pandas>=0.24->yfinance) (2018.9)\n",
            "Requirement already satisfied: six>=1.5 in /usr/local/lib/python3.7/dist-packages (from python-dateutil>=2.7.3->pandas>=0.24->yfinance) (1.15.0)\n",
            "Requirement already satisfied: urllib3!=1.25.0,!=1.25.1,<1.26,>=1.21.1 in /usr/local/lib/python3.7/dist-packages (from requests>=2.20->yfinance) (1.24.3)\n",
            "Requirement already satisfied: idna<3,>=2.5 in /usr/local/lib/python3.7/dist-packages (from requests>=2.20->yfinance) (2.10)\n",
            "Requirement already satisfied: chardet<4,>=3.0.2 in /usr/local/lib/python3.7/dist-packages (from requests>=2.20->yfinance) (3.0.4)\n",
            "Requirement already satisfied: certifi>=2017.4.17 in /usr/local/lib/python3.7/dist-packages (from requests>=2.20->yfinance) (2021.10.8)\n"
          ]
        }
      ],
      "source": [
        "pip install yfinance"
      ]
    },
    {
      "cell_type": "code",
      "execution_count": null,
      "metadata": {
        "colab": {
          "base_uri": "https://localhost:8080/"
        },
        "id": "gRjuGZEBqr7B",
        "outputId": "a0c807c4-a6e9-4206-bbac-ab4c766688ca"
      },
      "outputs": [
        {
          "name": "stdout",
          "output_type": "stream",
          "text": [
            "Requirement already satisfied: pandas_datareader in /usr/local/lib/python3.7/dist-packages (0.9.0)\n",
            "Requirement already satisfied: pandas>=0.23 in /usr/local/lib/python3.7/dist-packages (from pandas_datareader) (1.1.5)\n",
            "Requirement already satisfied: requests>=2.19.0 in /usr/local/lib/python3.7/dist-packages (from pandas_datareader) (2.23.0)\n",
            "Requirement already satisfied: lxml in /usr/local/lib/python3.7/dist-packages (from pandas_datareader) (4.6.4)\n",
            "Requirement already satisfied: python-dateutil>=2.7.3 in /usr/local/lib/python3.7/dist-packages (from pandas>=0.23->pandas_datareader) (2.8.2)\n",
            "Requirement already satisfied: numpy>=1.15.4 in /usr/local/lib/python3.7/dist-packages (from pandas>=0.23->pandas_datareader) (1.19.5)\n",
            "Requirement already satisfied: pytz>=2017.2 in /usr/local/lib/python3.7/dist-packages (from pandas>=0.23->pandas_datareader) (2018.9)\n",
            "Requirement already satisfied: six>=1.5 in /usr/local/lib/python3.7/dist-packages (from python-dateutil>=2.7.3->pandas>=0.23->pandas_datareader) (1.15.0)\n",
            "Requirement already satisfied: urllib3!=1.25.0,!=1.25.1,<1.26,>=1.21.1 in /usr/local/lib/python3.7/dist-packages (from requests>=2.19.0->pandas_datareader) (1.24.3)\n",
            "Requirement already satisfied: certifi>=2017.4.17 in /usr/local/lib/python3.7/dist-packages (from requests>=2.19.0->pandas_datareader) (2021.10.8)\n",
            "Requirement already satisfied: chardet<4,>=3.0.2 in /usr/local/lib/python3.7/dist-packages (from requests>=2.19.0->pandas_datareader) (3.0.4)\n",
            "Requirement already satisfied: idna<3,>=2.5 in /usr/local/lib/python3.7/dist-packages (from requests>=2.19.0->pandas_datareader) (2.10)\n"
          ]
        }
      ],
      "source": [
        "pip install pandas_datareader"
      ]
    },
    {
      "cell_type": "code",
      "execution_count": null,
      "metadata": {
        "id": "tRkVWM3Hqwef"
      },
      "outputs": [],
      "source": [
        "import datetime\n",
        "import numpy as np\n",
        "import pandas\n",
        "import pandas as pd\n",
        "import matplotlib.pyplot as plt\n",
        "import yfinance as yf\n",
        "from pandas_datareader import data as pdr"
      ]
    },
    {
      "cell_type": "code",
      "execution_count": null,
      "metadata": {
        "id": "2UmbmL5Wq8S8"
      },
      "outputs": [],
      "source": [
        "yf.pdr_override()"
      ]
    },
    {
      "cell_type": "code",
      "execution_count": null,
      "metadata": {
        "id": "dAJIhZrmrBmN"
      },
      "outputs": [],
      "source": [
        "stock_symbol= [\"GME\", \"TGT\", \"BND\",\"F\",\"SPY\"]"
      ]
    },
    {
      "cell_type": "code",
      "execution_count": null,
      "metadata": {
        "colab": {
          "base_uri": "https://localhost:8080/",
          "height": 472
        },
        "id": "0E1LbU1Ssb_l",
        "outputId": "160737d5-12dd-41b3-fb4b-cc38f464bd80"
      },
      "outputs": [
        {
          "name": "stdout",
          "output_type": "stream",
          "text": [
            "\r[*********************100%***********************]  1 of 1 completed\n"
          ]
        },
        {
          "data": {
            "text/html": [
              "<div>\n",
              "<style scoped>\n",
              "    .dataframe tbody tr th:only-of-type {\n",
              "        vertical-align: middle;\n",
              "    }\n",
              "\n",
              "    .dataframe tbody tr th {\n",
              "        vertical-align: top;\n",
              "    }\n",
              "\n",
              "    .dataframe thead th {\n",
              "        text-align: right;\n",
              "    }\n",
              "</style>\n",
              "<table border=\"1\" class=\"dataframe\">\n",
              "  <thead>\n",
              "    <tr style=\"text-align: right;\">\n",
              "      <th></th>\n",
              "      <th>GME_Open</th>\n",
              "      <th>GME_Close</th>\n",
              "    </tr>\n",
              "    <tr>\n",
              "      <th>Date</th>\n",
              "      <th></th>\n",
              "      <th></th>\n",
              "    </tr>\n",
              "  </thead>\n",
              "  <tbody>\n",
              "    <tr>\n",
              "      <th>2011-01-03</th>\n",
              "      <td>23.070000</td>\n",
              "      <td>22.910000</td>\n",
              "    </tr>\n",
              "    <tr>\n",
              "      <th>2011-01-04</th>\n",
              "      <td>22.969999</td>\n",
              "      <td>22.500000</td>\n",
              "    </tr>\n",
              "    <tr>\n",
              "      <th>2011-01-05</th>\n",
              "      <td>22.490000</td>\n",
              "      <td>21.889999</td>\n",
              "    </tr>\n",
              "    <tr>\n",
              "      <th>2011-01-06</th>\n",
              "      <td>21.290001</td>\n",
              "      <td>20.629999</td>\n",
              "    </tr>\n",
              "    <tr>\n",
              "      <th>2011-01-07</th>\n",
              "      <td>20.620001</td>\n",
              "      <td>20.770000</td>\n",
              "    </tr>\n",
              "    <tr>\n",
              "      <th>...</th>\n",
              "      <td>...</td>\n",
              "      <td>...</td>\n",
              "    </tr>\n",
              "    <tr>\n",
              "      <th>2020-12-24</th>\n",
              "      <td>21.010000</td>\n",
              "      <td>20.150000</td>\n",
              "    </tr>\n",
              "    <tr>\n",
              "      <th>2020-12-28</th>\n",
              "      <td>21.309999</td>\n",
              "      <td>20.990000</td>\n",
              "    </tr>\n",
              "    <tr>\n",
              "      <th>2020-12-29</th>\n",
              "      <td>20.820000</td>\n",
              "      <td>19.379999</td>\n",
              "    </tr>\n",
              "    <tr>\n",
              "      <th>2020-12-30</th>\n",
              "      <td>19.379999</td>\n",
              "      <td>19.260000</td>\n",
              "    </tr>\n",
              "    <tr>\n",
              "      <th>2020-12-31</th>\n",
              "      <td>19.250000</td>\n",
              "      <td>18.840000</td>\n",
              "    </tr>\n",
              "  </tbody>\n",
              "</table>\n",
              "<p>2517 rows × 2 columns</p>\n",
              "</div>"
            ],
            "text/plain": [
              "             GME_Open  GME_Close\n",
              "Date                            \n",
              "2011-01-03  23.070000  22.910000\n",
              "2011-01-04  22.969999  22.500000\n",
              "2011-01-05  22.490000  21.889999\n",
              "2011-01-06  21.290001  20.629999\n",
              "2011-01-07  20.620001  20.770000\n",
              "...               ...        ...\n",
              "2020-12-24  21.010000  20.150000\n",
              "2020-12-28  21.309999  20.990000\n",
              "2020-12-29  20.820000  19.379999\n",
              "2020-12-30  19.379999  19.260000\n",
              "2020-12-31  19.250000  18.840000\n",
              "\n",
              "[2517 rows x 2 columns]"
            ]
          },
          "execution_count": 6,
          "metadata": {},
          "output_type": "execute_result"
        }
      ],
      "source": [
        "gme=pdr.get_data_yahoo(\"GME\", start=\"2011-01-01\", end=\"2021-01-01\")\n",
        "gme=gme.dropna()\n",
        "gme=gme.loc[:,[\"Open\",\"Close\"]]\n",
        "gme=gme.rename(columns={\"Open\": \"GME_Open\", \"Close\": \"GME_Close\"})\n",
        "gme"
      ]
    },
    {
      "cell_type": "code",
      "execution_count": null,
      "metadata": {
        "colab": {
          "base_uri": "https://localhost:8080/",
          "height": 472
        },
        "id": "tjR4OZaruLLb",
        "outputId": "0eecfb45-b132-4117-cc0a-9c38ce29cb26"
      },
      "outputs": [
        {
          "name": "stdout",
          "output_type": "stream",
          "text": [
            "\r[*********************100%***********************]  1 of 1 completed\n"
          ]
        },
        {
          "data": {
            "text/html": [
              "<div>\n",
              "<style scoped>\n",
              "    .dataframe tbody tr th:only-of-type {\n",
              "        vertical-align: middle;\n",
              "    }\n",
              "\n",
              "    .dataframe tbody tr th {\n",
              "        vertical-align: top;\n",
              "    }\n",
              "\n",
              "    .dataframe thead th {\n",
              "        text-align: right;\n",
              "    }\n",
              "</style>\n",
              "<table border=\"1\" class=\"dataframe\">\n",
              "  <thead>\n",
              "    <tr style=\"text-align: right;\">\n",
              "      <th></th>\n",
              "      <th>TGT_Open</th>\n",
              "      <th>TGT_Close</th>\n",
              "    </tr>\n",
              "    <tr>\n",
              "      <th>Date</th>\n",
              "      <th></th>\n",
              "      <th></th>\n",
              "    </tr>\n",
              "  </thead>\n",
              "  <tbody>\n",
              "    <tr>\n",
              "      <th>2011-01-03</th>\n",
              "      <td>60.259998</td>\n",
              "      <td>60.770000</td>\n",
              "    </tr>\n",
              "    <tr>\n",
              "      <th>2011-01-04</th>\n",
              "      <td>60.639999</td>\n",
              "      <td>59.990002</td>\n",
              "    </tr>\n",
              "    <tr>\n",
              "      <th>2011-01-05</th>\n",
              "      <td>59.480000</td>\n",
              "      <td>58.939999</td>\n",
              "    </tr>\n",
              "    <tr>\n",
              "      <th>2011-01-06</th>\n",
              "      <td>55.810001</td>\n",
              "      <td>54.930000</td>\n",
              "    </tr>\n",
              "    <tr>\n",
              "      <th>2011-01-07</th>\n",
              "      <td>55.150002</td>\n",
              "      <td>55.049999</td>\n",
              "    </tr>\n",
              "    <tr>\n",
              "      <th>...</th>\n",
              "      <td>...</td>\n",
              "      <td>...</td>\n",
              "    </tr>\n",
              "    <tr>\n",
              "      <th>2020-12-24</th>\n",
              "      <td>175.979996</td>\n",
              "      <td>175.190002</td>\n",
              "    </tr>\n",
              "    <tr>\n",
              "      <th>2020-12-28</th>\n",
              "      <td>177.110001</td>\n",
              "      <td>176.389999</td>\n",
              "    </tr>\n",
              "    <tr>\n",
              "      <th>2020-12-29</th>\n",
              "      <td>177.110001</td>\n",
              "      <td>175.039993</td>\n",
              "    </tr>\n",
              "    <tr>\n",
              "      <th>2020-12-30</th>\n",
              "      <td>175.699997</td>\n",
              "      <td>173.880005</td>\n",
              "    </tr>\n",
              "    <tr>\n",
              "      <th>2020-12-31</th>\n",
              "      <td>174.410004</td>\n",
              "      <td>176.529999</td>\n",
              "    </tr>\n",
              "  </tbody>\n",
              "</table>\n",
              "<p>2517 rows × 2 columns</p>\n",
              "</div>"
            ],
            "text/plain": [
              "              TGT_Open   TGT_Close\n",
              "Date                              \n",
              "2011-01-03   60.259998   60.770000\n",
              "2011-01-04   60.639999   59.990002\n",
              "2011-01-05   59.480000   58.939999\n",
              "2011-01-06   55.810001   54.930000\n",
              "2011-01-07   55.150002   55.049999\n",
              "...                ...         ...\n",
              "2020-12-24  175.979996  175.190002\n",
              "2020-12-28  177.110001  176.389999\n",
              "2020-12-29  177.110001  175.039993\n",
              "2020-12-30  175.699997  173.880005\n",
              "2020-12-31  174.410004  176.529999\n",
              "\n",
              "[2517 rows x 2 columns]"
            ]
          },
          "execution_count": 7,
          "metadata": {},
          "output_type": "execute_result"
        }
      ],
      "source": [
        "tgt=pdr.get_data_yahoo(\"TGT\", \"2011-01-01\", \"2021-01-01\")\n",
        "tgt=tgt.dropna()\n",
        "tgt=tgt[[\"Open\",\"Close\"]]\n",
        "tgt=tgt.rename(columns={\"Open\": \"TGT_Open\", \"Close\": \"TGT_Close\"})\n",
        "tgt"
      ]
    },
    {
      "cell_type": "code",
      "execution_count": null,
      "metadata": {
        "colab": {
          "base_uri": "https://localhost:8080/",
          "height": 472
        },
        "id": "s2LFFCjVuP_B",
        "outputId": "be241fa7-a4f7-41b1-af6d-707fafd8b153"
      },
      "outputs": [
        {
          "name": "stdout",
          "output_type": "stream",
          "text": [
            "\r[*********************100%***********************]  1 of 1 completed\n"
          ]
        },
        {
          "data": {
            "text/html": [
              "<div>\n",
              "<style scoped>\n",
              "    .dataframe tbody tr th:only-of-type {\n",
              "        vertical-align: middle;\n",
              "    }\n",
              "\n",
              "    .dataframe tbody tr th {\n",
              "        vertical-align: top;\n",
              "    }\n",
              "\n",
              "    .dataframe thead th {\n",
              "        text-align: right;\n",
              "    }\n",
              "</style>\n",
              "<table border=\"1\" class=\"dataframe\">\n",
              "  <thead>\n",
              "    <tr style=\"text-align: right;\">\n",
              "      <th></th>\n",
              "      <th>BND_Open</th>\n",
              "      <th>BND_Close</th>\n",
              "    </tr>\n",
              "    <tr>\n",
              "      <th>Date</th>\n",
              "      <th></th>\n",
              "      <th></th>\n",
              "    </tr>\n",
              "  </thead>\n",
              "  <tbody>\n",
              "    <tr>\n",
              "      <th>2011-01-03</th>\n",
              "      <td>80.029999</td>\n",
              "      <td>80.169998</td>\n",
              "    </tr>\n",
              "    <tr>\n",
              "      <th>2011-01-04</th>\n",
              "      <td>80.220001</td>\n",
              "      <td>80.180000</td>\n",
              "    </tr>\n",
              "    <tr>\n",
              "      <th>2011-01-05</th>\n",
              "      <td>79.930000</td>\n",
              "      <td>79.830002</td>\n",
              "    </tr>\n",
              "    <tr>\n",
              "      <th>2011-01-06</th>\n",
              "      <td>79.900002</td>\n",
              "      <td>79.900002</td>\n",
              "    </tr>\n",
              "    <tr>\n",
              "      <th>2011-01-07</th>\n",
              "      <td>80.000000</td>\n",
              "      <td>80.199997</td>\n",
              "    </tr>\n",
              "    <tr>\n",
              "      <th>...</th>\n",
              "      <td>...</td>\n",
              "      <td>...</td>\n",
              "    </tr>\n",
              "    <tr>\n",
              "      <th>2020-12-24</th>\n",
              "      <td>87.989998</td>\n",
              "      <td>88.010002</td>\n",
              "    </tr>\n",
              "    <tr>\n",
              "      <th>2020-12-28</th>\n",
              "      <td>87.940002</td>\n",
              "      <td>87.980003</td>\n",
              "    </tr>\n",
              "    <tr>\n",
              "      <th>2020-12-29</th>\n",
              "      <td>87.949997</td>\n",
              "      <td>88.010002</td>\n",
              "    </tr>\n",
              "    <tr>\n",
              "      <th>2020-12-30</th>\n",
              "      <td>88.029999</td>\n",
              "      <td>88.070000</td>\n",
              "    </tr>\n",
              "    <tr>\n",
              "      <th>2020-12-31</th>\n",
              "      <td>88.110001</td>\n",
              "      <td>88.190002</td>\n",
              "    </tr>\n",
              "  </tbody>\n",
              "</table>\n",
              "<p>2517 rows × 2 columns</p>\n",
              "</div>"
            ],
            "text/plain": [
              "             BND_Open  BND_Close\n",
              "Date                            \n",
              "2011-01-03  80.029999  80.169998\n",
              "2011-01-04  80.220001  80.180000\n",
              "2011-01-05  79.930000  79.830002\n",
              "2011-01-06  79.900002  79.900002\n",
              "2011-01-07  80.000000  80.199997\n",
              "...               ...        ...\n",
              "2020-12-24  87.989998  88.010002\n",
              "2020-12-28  87.940002  87.980003\n",
              "2020-12-29  87.949997  88.010002\n",
              "2020-12-30  88.029999  88.070000\n",
              "2020-12-31  88.110001  88.190002\n",
              "\n",
              "[2517 rows x 2 columns]"
            ]
          },
          "execution_count": 8,
          "metadata": {},
          "output_type": "execute_result"
        }
      ],
      "source": [
        "bnd=pdr.get_data_yahoo(\"BND\", \"2011-01-01\", \"2021-01-01\")\n",
        "bnd=bnd.dropna()\n",
        "bnd=bnd.loc[:,[\"Open\",\"Close\"]]\n",
        "bnd=bnd.rename(columns={\"Open\": \"BND_Open\", \"Close\": \"BND_Close\"})\n",
        "bnd"
      ]
    },
    {
      "cell_type": "code",
      "execution_count": null,
      "metadata": {
        "colab": {
          "base_uri": "https://localhost:8080/",
          "height": 472
        },
        "id": "uM06y5xluU1q",
        "outputId": "3ae59f22-3cd3-48b0-8236-53ffd7fa48d7"
      },
      "outputs": [
        {
          "name": "stdout",
          "output_type": "stream",
          "text": [
            "\r[*********************100%***********************]  1 of 1 completed\n"
          ]
        },
        {
          "data": {
            "text/html": [
              "<div>\n",
              "<style scoped>\n",
              "    .dataframe tbody tr th:only-of-type {\n",
              "        vertical-align: middle;\n",
              "    }\n",
              "\n",
              "    .dataframe tbody tr th {\n",
              "        vertical-align: top;\n",
              "    }\n",
              "\n",
              "    .dataframe thead th {\n",
              "        text-align: right;\n",
              "    }\n",
              "</style>\n",
              "<table border=\"1\" class=\"dataframe\">\n",
              "  <thead>\n",
              "    <tr style=\"text-align: right;\">\n",
              "      <th></th>\n",
              "      <th>F_Open</th>\n",
              "      <th>F_Close</th>\n",
              "    </tr>\n",
              "    <tr>\n",
              "      <th>Date</th>\n",
              "      <th></th>\n",
              "      <th></th>\n",
              "    </tr>\n",
              "  </thead>\n",
              "  <tbody>\n",
              "    <tr>\n",
              "      <th>2011-01-03</th>\n",
              "      <td>17.020000</td>\n",
              "      <td>17.250000</td>\n",
              "    </tr>\n",
              "    <tr>\n",
              "      <th>2011-01-04</th>\n",
              "      <td>17.389999</td>\n",
              "      <td>17.379999</td>\n",
              "    </tr>\n",
              "    <tr>\n",
              "      <th>2011-01-05</th>\n",
              "      <td>17.309999</td>\n",
              "      <td>17.889999</td>\n",
              "    </tr>\n",
              "    <tr>\n",
              "      <th>2011-01-06</th>\n",
              "      <td>18.030001</td>\n",
              "      <td>18.219999</td>\n",
              "    </tr>\n",
              "    <tr>\n",
              "      <th>2011-01-07</th>\n",
              "      <td>18.420000</td>\n",
              "      <td>18.270000</td>\n",
              "    </tr>\n",
              "    <tr>\n",
              "      <th>...</th>\n",
              "      <td>...</td>\n",
              "      <td>...</td>\n",
              "    </tr>\n",
              "    <tr>\n",
              "      <th>2020-12-24</th>\n",
              "      <td>9.010000</td>\n",
              "      <td>8.860000</td>\n",
              "    </tr>\n",
              "    <tr>\n",
              "      <th>2020-12-28</th>\n",
              "      <td>8.920000</td>\n",
              "      <td>8.890000</td>\n",
              "    </tr>\n",
              "    <tr>\n",
              "      <th>2020-12-29</th>\n",
              "      <td>8.930000</td>\n",
              "      <td>8.820000</td>\n",
              "    </tr>\n",
              "    <tr>\n",
              "      <th>2020-12-30</th>\n",
              "      <td>8.830000</td>\n",
              "      <td>8.860000</td>\n",
              "    </tr>\n",
              "    <tr>\n",
              "      <th>2020-12-31</th>\n",
              "      <td>8.840000</td>\n",
              "      <td>8.790000</td>\n",
              "    </tr>\n",
              "  </tbody>\n",
              "</table>\n",
              "<p>2517 rows × 2 columns</p>\n",
              "</div>"
            ],
            "text/plain": [
              "               F_Open    F_Close\n",
              "Date                            \n",
              "2011-01-03  17.020000  17.250000\n",
              "2011-01-04  17.389999  17.379999\n",
              "2011-01-05  17.309999  17.889999\n",
              "2011-01-06  18.030001  18.219999\n",
              "2011-01-07  18.420000  18.270000\n",
              "...               ...        ...\n",
              "2020-12-24   9.010000   8.860000\n",
              "2020-12-28   8.920000   8.890000\n",
              "2020-12-29   8.930000   8.820000\n",
              "2020-12-30   8.830000   8.860000\n",
              "2020-12-31   8.840000   8.790000\n",
              "\n",
              "[2517 rows x 2 columns]"
            ]
          },
          "execution_count": 9,
          "metadata": {},
          "output_type": "execute_result"
        }
      ],
      "source": [
        "f=pdr.get_data_yahoo(\"F\", \"2011-01-01\", \"2021-01-01\")\n",
        "f=f.dropna()\n",
        "f=f.loc[:,[\"Open\",\"Close\"]]\n",
        "f=f.rename(columns={\"Open\": \"F_Open\", \"Close\": \"F_Close\"})\n",
        "f"
      ]
    },
    {
      "cell_type": "code",
      "execution_count": null,
      "metadata": {
        "colab": {
          "base_uri": "https://localhost:8080/",
          "height": 472
        },
        "id": "_se9KND1ufaQ",
        "outputId": "70df8261-1800-4231-ca15-f0a7d94bf561"
      },
      "outputs": [
        {
          "name": "stdout",
          "output_type": "stream",
          "text": [
            "\r[*********************100%***********************]  1 of 1 completed\n"
          ]
        },
        {
          "data": {
            "text/html": [
              "<div>\n",
              "<style scoped>\n",
              "    .dataframe tbody tr th:only-of-type {\n",
              "        vertical-align: middle;\n",
              "    }\n",
              "\n",
              "    .dataframe tbody tr th {\n",
              "        vertical-align: top;\n",
              "    }\n",
              "\n",
              "    .dataframe thead th {\n",
              "        text-align: right;\n",
              "    }\n",
              "</style>\n",
              "<table border=\"1\" class=\"dataframe\">\n",
              "  <thead>\n",
              "    <tr style=\"text-align: right;\">\n",
              "      <th></th>\n",
              "      <th>SPY_Open</th>\n",
              "      <th>SPY_Close</th>\n",
              "    </tr>\n",
              "    <tr>\n",
              "      <th>Date</th>\n",
              "      <th></th>\n",
              "      <th></th>\n",
              "    </tr>\n",
              "  </thead>\n",
              "  <tbody>\n",
              "    <tr>\n",
              "      <th>2011-01-03</th>\n",
              "      <td>126.709999</td>\n",
              "      <td>127.050003</td>\n",
              "    </tr>\n",
              "    <tr>\n",
              "      <th>2011-01-04</th>\n",
              "      <td>127.330002</td>\n",
              "      <td>126.980003</td>\n",
              "    </tr>\n",
              "    <tr>\n",
              "      <th>2011-01-05</th>\n",
              "      <td>126.580002</td>\n",
              "      <td>127.639999</td>\n",
              "    </tr>\n",
              "    <tr>\n",
              "      <th>2011-01-06</th>\n",
              "      <td>127.690002</td>\n",
              "      <td>127.389999</td>\n",
              "    </tr>\n",
              "    <tr>\n",
              "      <th>2011-01-07</th>\n",
              "      <td>127.559998</td>\n",
              "      <td>127.139999</td>\n",
              "    </tr>\n",
              "    <tr>\n",
              "      <th>...</th>\n",
              "      <td>...</td>\n",
              "      <td>...</td>\n",
              "    </tr>\n",
              "    <tr>\n",
              "      <th>2020-12-24</th>\n",
              "      <td>368.079987</td>\n",
              "      <td>369.000000</td>\n",
              "    </tr>\n",
              "    <tr>\n",
              "      <th>2020-12-28</th>\n",
              "      <td>371.739990</td>\n",
              "      <td>372.170013</td>\n",
              "    </tr>\n",
              "    <tr>\n",
              "      <th>2020-12-29</th>\n",
              "      <td>373.809998</td>\n",
              "      <td>371.459991</td>\n",
              "    </tr>\n",
              "    <tr>\n",
              "      <th>2020-12-30</th>\n",
              "      <td>372.339996</td>\n",
              "      <td>371.989990</td>\n",
              "    </tr>\n",
              "    <tr>\n",
              "      <th>2020-12-31</th>\n",
              "      <td>371.779999</td>\n",
              "      <td>373.880005</td>\n",
              "    </tr>\n",
              "  </tbody>\n",
              "</table>\n",
              "<p>2517 rows × 2 columns</p>\n",
              "</div>"
            ],
            "text/plain": [
              "              SPY_Open   SPY_Close\n",
              "Date                              \n",
              "2011-01-03  126.709999  127.050003\n",
              "2011-01-04  127.330002  126.980003\n",
              "2011-01-05  126.580002  127.639999\n",
              "2011-01-06  127.690002  127.389999\n",
              "2011-01-07  127.559998  127.139999\n",
              "...                ...         ...\n",
              "2020-12-24  368.079987  369.000000\n",
              "2020-12-28  371.739990  372.170013\n",
              "2020-12-29  373.809998  371.459991\n",
              "2020-12-30  372.339996  371.989990\n",
              "2020-12-31  371.779999  373.880005\n",
              "\n",
              "[2517 rows x 2 columns]"
            ]
          },
          "execution_count": 10,
          "metadata": {},
          "output_type": "execute_result"
        }
      ],
      "source": [
        "spy=pdr.get_data_yahoo(\"SPY\", start=\"2011-01-01\", end=\"2021-01-01\")\n",
        "spy=spy.dropna()\n",
        "spy=spy.loc[:,[\"Open\",\"Close\"]]\n",
        "spy=spy.rename(columns={\"Open\": \"SPY_Open\", \"Close\": \"SPY_Close\"})\n",
        "spy"
      ]
    },
    {
      "cell_type": "code",
      "execution_count": null,
      "metadata": {
        "id": "lpImlvYwpZQ-"
      },
      "outputs": [],
      "source": []
    },
    {
      "cell_type": "code",
      "execution_count": null,
      "metadata": {
        "colab": {
          "base_uri": "https://localhost:8080/",
          "height": 455
        },
        "id": "XNhrKC3R8DdQ",
        "outputId": "048c3f09-1c8c-4cd0-8aaf-aa198dad9e4e"
      },
      "outputs": [
        {
          "data": {
            "text/html": [
              "<div>\n",
              "<style scoped>\n",
              "    .dataframe tbody tr th:only-of-type {\n",
              "        vertical-align: middle;\n",
              "    }\n",
              "\n",
              "    .dataframe tbody tr th {\n",
              "        vertical-align: top;\n",
              "    }\n",
              "\n",
              "    .dataframe thead th {\n",
              "        text-align: right;\n",
              "    }\n",
              "</style>\n",
              "<table border=\"1\" class=\"dataframe\">\n",
              "  <thead>\n",
              "    <tr style=\"text-align: right;\">\n",
              "      <th></th>\n",
              "      <th>GME_Open</th>\n",
              "      <th>GME_Close</th>\n",
              "      <th>TGT_Open</th>\n",
              "      <th>TGT_Close</th>\n",
              "      <th>BND_Open</th>\n",
              "      <th>BND_Close</th>\n",
              "      <th>F_Open</th>\n",
              "      <th>F_Close</th>\n",
              "      <th>SPY_Open</th>\n",
              "      <th>SPY_Close</th>\n",
              "    </tr>\n",
              "    <tr>\n",
              "      <th>Date</th>\n",
              "      <th></th>\n",
              "      <th></th>\n",
              "      <th></th>\n",
              "      <th></th>\n",
              "      <th></th>\n",
              "      <th></th>\n",
              "      <th></th>\n",
              "      <th></th>\n",
              "      <th></th>\n",
              "      <th></th>\n",
              "    </tr>\n",
              "  </thead>\n",
              "  <tbody>\n",
              "    <tr>\n",
              "      <th>2011-01-03</th>\n",
              "      <td>23.070000</td>\n",
              "      <td>22.910000</td>\n",
              "      <td>60.259998</td>\n",
              "      <td>60.770000</td>\n",
              "      <td>80.029999</td>\n",
              "      <td>80.169998</td>\n",
              "      <td>17.020000</td>\n",
              "      <td>17.250000</td>\n",
              "      <td>126.709999</td>\n",
              "      <td>127.050003</td>\n",
              "    </tr>\n",
              "    <tr>\n",
              "      <th>2011-01-04</th>\n",
              "      <td>22.969999</td>\n",
              "      <td>22.500000</td>\n",
              "      <td>60.639999</td>\n",
              "      <td>59.990002</td>\n",
              "      <td>80.220001</td>\n",
              "      <td>80.180000</td>\n",
              "      <td>17.389999</td>\n",
              "      <td>17.379999</td>\n",
              "      <td>127.330002</td>\n",
              "      <td>126.980003</td>\n",
              "    </tr>\n",
              "    <tr>\n",
              "      <th>2011-01-05</th>\n",
              "      <td>22.490000</td>\n",
              "      <td>21.889999</td>\n",
              "      <td>59.480000</td>\n",
              "      <td>58.939999</td>\n",
              "      <td>79.930000</td>\n",
              "      <td>79.830002</td>\n",
              "      <td>17.309999</td>\n",
              "      <td>17.889999</td>\n",
              "      <td>126.580002</td>\n",
              "      <td>127.639999</td>\n",
              "    </tr>\n",
              "    <tr>\n",
              "      <th>2011-01-06</th>\n",
              "      <td>21.290001</td>\n",
              "      <td>20.629999</td>\n",
              "      <td>55.810001</td>\n",
              "      <td>54.930000</td>\n",
              "      <td>79.900002</td>\n",
              "      <td>79.900002</td>\n",
              "      <td>18.030001</td>\n",
              "      <td>18.219999</td>\n",
              "      <td>127.690002</td>\n",
              "      <td>127.389999</td>\n",
              "    </tr>\n",
              "    <tr>\n",
              "      <th>2011-01-07</th>\n",
              "      <td>20.620001</td>\n",
              "      <td>20.770000</td>\n",
              "      <td>55.150002</td>\n",
              "      <td>55.049999</td>\n",
              "      <td>80.000000</td>\n",
              "      <td>80.199997</td>\n",
              "      <td>18.420000</td>\n",
              "      <td>18.270000</td>\n",
              "      <td>127.559998</td>\n",
              "      <td>127.139999</td>\n",
              "    </tr>\n",
              "    <tr>\n",
              "      <th>...</th>\n",
              "      <td>...</td>\n",
              "      <td>...</td>\n",
              "      <td>...</td>\n",
              "      <td>...</td>\n",
              "      <td>...</td>\n",
              "      <td>...</td>\n",
              "      <td>...</td>\n",
              "      <td>...</td>\n",
              "      <td>...</td>\n",
              "      <td>...</td>\n",
              "    </tr>\n",
              "    <tr>\n",
              "      <th>2020-12-24</th>\n",
              "      <td>21.010000</td>\n",
              "      <td>20.150000</td>\n",
              "      <td>175.979996</td>\n",
              "      <td>175.190002</td>\n",
              "      <td>87.989998</td>\n",
              "      <td>88.010002</td>\n",
              "      <td>9.010000</td>\n",
              "      <td>8.860000</td>\n",
              "      <td>368.079987</td>\n",
              "      <td>369.000000</td>\n",
              "    </tr>\n",
              "    <tr>\n",
              "      <th>2020-12-28</th>\n",
              "      <td>21.309999</td>\n",
              "      <td>20.990000</td>\n",
              "      <td>177.110001</td>\n",
              "      <td>176.389999</td>\n",
              "      <td>87.940002</td>\n",
              "      <td>87.980003</td>\n",
              "      <td>8.920000</td>\n",
              "      <td>8.890000</td>\n",
              "      <td>371.739990</td>\n",
              "      <td>372.170013</td>\n",
              "    </tr>\n",
              "    <tr>\n",
              "      <th>2020-12-29</th>\n",
              "      <td>20.820000</td>\n",
              "      <td>19.379999</td>\n",
              "      <td>177.110001</td>\n",
              "      <td>175.039993</td>\n",
              "      <td>87.949997</td>\n",
              "      <td>88.010002</td>\n",
              "      <td>8.930000</td>\n",
              "      <td>8.820000</td>\n",
              "      <td>373.809998</td>\n",
              "      <td>371.459991</td>\n",
              "    </tr>\n",
              "    <tr>\n",
              "      <th>2020-12-30</th>\n",
              "      <td>19.379999</td>\n",
              "      <td>19.260000</td>\n",
              "      <td>175.699997</td>\n",
              "      <td>173.880005</td>\n",
              "      <td>88.029999</td>\n",
              "      <td>88.070000</td>\n",
              "      <td>8.830000</td>\n",
              "      <td>8.860000</td>\n",
              "      <td>372.339996</td>\n",
              "      <td>371.989990</td>\n",
              "    </tr>\n",
              "    <tr>\n",
              "      <th>2020-12-31</th>\n",
              "      <td>19.250000</td>\n",
              "      <td>18.840000</td>\n",
              "      <td>174.410004</td>\n",
              "      <td>176.529999</td>\n",
              "      <td>88.110001</td>\n",
              "      <td>88.190002</td>\n",
              "      <td>8.840000</td>\n",
              "      <td>8.790000</td>\n",
              "      <td>371.779999</td>\n",
              "      <td>373.880005</td>\n",
              "    </tr>\n",
              "  </tbody>\n",
              "</table>\n",
              "<p>2517 rows × 10 columns</p>\n",
              "</div>"
            ],
            "text/plain": [
              "             GME_Open  GME_Close    TGT_Open  ...    F_Close    SPY_Open   SPY_Close\n",
              "Date                                          ...                                   \n",
              "2011-01-03  23.070000  22.910000   60.259998  ...  17.250000  126.709999  127.050003\n",
              "2011-01-04  22.969999  22.500000   60.639999  ...  17.379999  127.330002  126.980003\n",
              "2011-01-05  22.490000  21.889999   59.480000  ...  17.889999  126.580002  127.639999\n",
              "2011-01-06  21.290001  20.629999   55.810001  ...  18.219999  127.690002  127.389999\n",
              "2011-01-07  20.620001  20.770000   55.150002  ...  18.270000  127.559998  127.139999\n",
              "...               ...        ...         ...  ...        ...         ...         ...\n",
              "2020-12-24  21.010000  20.150000  175.979996  ...   8.860000  368.079987  369.000000\n",
              "2020-12-28  21.309999  20.990000  177.110001  ...   8.890000  371.739990  372.170013\n",
              "2020-12-29  20.820000  19.379999  177.110001  ...   8.820000  373.809998  371.459991\n",
              "2020-12-30  19.379999  19.260000  175.699997  ...   8.860000  372.339996  371.989990\n",
              "2020-12-31  19.250000  18.840000  174.410004  ...   8.790000  371.779999  373.880005\n",
              "\n",
              "[2517 rows x 10 columns]"
            ]
          },
          "execution_count": 11,
          "metadata": {},
          "output_type": "execute_result"
        }
      ],
      "source": [
        "df=pd.concat([gme, tgt, bnd, f, spy], axis=1)\n",
        "df"
      ]
    },
    {
      "cell_type": "code",
      "execution_count": null,
      "metadata": {
        "colab": {
          "base_uri": "https://localhost:8080/"
        },
        "id": "LHBOwoXs9cMe",
        "outputId": "0cbe0933-a65b-4816-e5be-8321d2c144b4"
      },
      "outputs": [
        {
          "name": "stdout",
          "output_type": "stream",
          "text": [
            "[*********************100%***********************]  1 of 1 completed\n",
            "[*********************100%***********************]  1 of 1 completed\n",
            "[*********************100%***********************]  1 of 1 completed\n",
            "[*********************100%***********************]  1 of 1 completed\n",
            "[*********************100%***********************]  1 of 1 completed\n"
          ]
        }
      ],
      "source": [
        "start=datetime.datetime(2011,1,1)\n",
        "end=datetime.datetime(2021,1,1)\n",
        "\n",
        "gme=pdr.get_data_yahoo(\"GME\",start,end)[[\"Open\",\"Close\"]].rename(columns={'Open':'GME_Open','Close':'GME_Close'})\n",
        "tgt=pdr.get_data_yahoo(\"TGT\",start,end)[[\"Open\",\"Close\"]].rename(columns={'Open':'TGT_Open','Close':'TGT_Close'})\n",
        "bnd=pdr.get_data_yahoo(\"BND\",start,end)[[\"Open\",\"Close\"]].rename(columns={'Open':'BND_Open','Close':'BND_Close'})\n",
        "f=pdr.get_data_yahoo(\"F\",start,end)[[\"Open\",\"Close\"]].rename(columns={'Open':'F_Open','Close':'F_Close'})\n",
        "spy=pdr.get_data_yahoo(\"SPY\",start,end)[[\"Open\",\"Close\"]].rename(columns={'Open':'SPY_Open','Close':'SPY_Close'})\n"
      ]
    },
    {
      "cell_type": "code",
      "execution_count": null,
      "metadata": {
        "id": "MTMN3IUIwDKQ"
      },
      "outputs": [],
      "source": [
        "st=gme.merge(tgt,on='Date').merge(bnd,on='Date').merge(f,on='Date').merge(spy,on='Date')"
      ]
    },
    {
      "cell_type": "code",
      "execution_count": null,
      "metadata": {
        "colab": {
          "base_uri": "https://localhost:8080/",
          "height": 455
        },
        "id": "KrjX6Js7xunj",
        "outputId": "599c155d-118b-4c81-839a-5a394b43537f"
      },
      "outputs": [
        {
          "data": {
            "text/html": [
              "<div>\n",
              "<style scoped>\n",
              "    .dataframe tbody tr th:only-of-type {\n",
              "        vertical-align: middle;\n",
              "    }\n",
              "\n",
              "    .dataframe tbody tr th {\n",
              "        vertical-align: top;\n",
              "    }\n",
              "\n",
              "    .dataframe thead th {\n",
              "        text-align: right;\n",
              "    }\n",
              "</style>\n",
              "<table border=\"1\" class=\"dataframe\">\n",
              "  <thead>\n",
              "    <tr style=\"text-align: right;\">\n",
              "      <th></th>\n",
              "      <th>GME_Open</th>\n",
              "      <th>GME_Close</th>\n",
              "      <th>TGT_Open</th>\n",
              "      <th>TGT_Close</th>\n",
              "      <th>BND_Open</th>\n",
              "      <th>BND_Close</th>\n",
              "      <th>F_Open</th>\n",
              "      <th>F_Close</th>\n",
              "      <th>SPY_Open</th>\n",
              "      <th>SPY_Close</th>\n",
              "    </tr>\n",
              "    <tr>\n",
              "      <th>Date</th>\n",
              "      <th></th>\n",
              "      <th></th>\n",
              "      <th></th>\n",
              "      <th></th>\n",
              "      <th></th>\n",
              "      <th></th>\n",
              "      <th></th>\n",
              "      <th></th>\n",
              "      <th></th>\n",
              "      <th></th>\n",
              "    </tr>\n",
              "  </thead>\n",
              "  <tbody>\n",
              "    <tr>\n",
              "      <th>2011-01-03</th>\n",
              "      <td>23.070000</td>\n",
              "      <td>22.910000</td>\n",
              "      <td>60.259998</td>\n",
              "      <td>60.770000</td>\n",
              "      <td>80.029999</td>\n",
              "      <td>80.169998</td>\n",
              "      <td>17.020000</td>\n",
              "      <td>17.250000</td>\n",
              "      <td>126.709999</td>\n",
              "      <td>127.050003</td>\n",
              "    </tr>\n",
              "    <tr>\n",
              "      <th>2011-01-04</th>\n",
              "      <td>22.969999</td>\n",
              "      <td>22.500000</td>\n",
              "      <td>60.639999</td>\n",
              "      <td>59.990002</td>\n",
              "      <td>80.220001</td>\n",
              "      <td>80.180000</td>\n",
              "      <td>17.389999</td>\n",
              "      <td>17.379999</td>\n",
              "      <td>127.330002</td>\n",
              "      <td>126.980003</td>\n",
              "    </tr>\n",
              "    <tr>\n",
              "      <th>2011-01-05</th>\n",
              "      <td>22.490000</td>\n",
              "      <td>21.889999</td>\n",
              "      <td>59.480000</td>\n",
              "      <td>58.939999</td>\n",
              "      <td>79.930000</td>\n",
              "      <td>79.830002</td>\n",
              "      <td>17.309999</td>\n",
              "      <td>17.889999</td>\n",
              "      <td>126.580002</td>\n",
              "      <td>127.639999</td>\n",
              "    </tr>\n",
              "    <tr>\n",
              "      <th>2011-01-06</th>\n",
              "      <td>21.290001</td>\n",
              "      <td>20.629999</td>\n",
              "      <td>55.810001</td>\n",
              "      <td>54.930000</td>\n",
              "      <td>79.900002</td>\n",
              "      <td>79.900002</td>\n",
              "      <td>18.030001</td>\n",
              "      <td>18.219999</td>\n",
              "      <td>127.690002</td>\n",
              "      <td>127.389999</td>\n",
              "    </tr>\n",
              "    <tr>\n",
              "      <th>2011-01-07</th>\n",
              "      <td>20.620001</td>\n",
              "      <td>20.770000</td>\n",
              "      <td>55.150002</td>\n",
              "      <td>55.049999</td>\n",
              "      <td>80.000000</td>\n",
              "      <td>80.199997</td>\n",
              "      <td>18.420000</td>\n",
              "      <td>18.270000</td>\n",
              "      <td>127.559998</td>\n",
              "      <td>127.139999</td>\n",
              "    </tr>\n",
              "    <tr>\n",
              "      <th>...</th>\n",
              "      <td>...</td>\n",
              "      <td>...</td>\n",
              "      <td>...</td>\n",
              "      <td>...</td>\n",
              "      <td>...</td>\n",
              "      <td>...</td>\n",
              "      <td>...</td>\n",
              "      <td>...</td>\n",
              "      <td>...</td>\n",
              "      <td>...</td>\n",
              "    </tr>\n",
              "    <tr>\n",
              "      <th>2020-12-24</th>\n",
              "      <td>21.010000</td>\n",
              "      <td>20.150000</td>\n",
              "      <td>175.979996</td>\n",
              "      <td>175.190002</td>\n",
              "      <td>87.989998</td>\n",
              "      <td>88.010002</td>\n",
              "      <td>9.010000</td>\n",
              "      <td>8.860000</td>\n",
              "      <td>368.079987</td>\n",
              "      <td>369.000000</td>\n",
              "    </tr>\n",
              "    <tr>\n",
              "      <th>2020-12-28</th>\n",
              "      <td>21.309999</td>\n",
              "      <td>20.990000</td>\n",
              "      <td>177.110001</td>\n",
              "      <td>176.389999</td>\n",
              "      <td>87.940002</td>\n",
              "      <td>87.980003</td>\n",
              "      <td>8.920000</td>\n",
              "      <td>8.890000</td>\n",
              "      <td>371.739990</td>\n",
              "      <td>372.170013</td>\n",
              "    </tr>\n",
              "    <tr>\n",
              "      <th>2020-12-29</th>\n",
              "      <td>20.820000</td>\n",
              "      <td>19.379999</td>\n",
              "      <td>177.110001</td>\n",
              "      <td>175.039993</td>\n",
              "      <td>87.949997</td>\n",
              "      <td>88.010002</td>\n",
              "      <td>8.930000</td>\n",
              "      <td>8.820000</td>\n",
              "      <td>373.809998</td>\n",
              "      <td>371.459991</td>\n",
              "    </tr>\n",
              "    <tr>\n",
              "      <th>2020-12-30</th>\n",
              "      <td>19.379999</td>\n",
              "      <td>19.260000</td>\n",
              "      <td>175.699997</td>\n",
              "      <td>173.880005</td>\n",
              "      <td>88.029999</td>\n",
              "      <td>88.070000</td>\n",
              "      <td>8.830000</td>\n",
              "      <td>8.860000</td>\n",
              "      <td>372.339996</td>\n",
              "      <td>371.989990</td>\n",
              "    </tr>\n",
              "    <tr>\n",
              "      <th>2020-12-31</th>\n",
              "      <td>19.250000</td>\n",
              "      <td>18.840000</td>\n",
              "      <td>174.410004</td>\n",
              "      <td>176.529999</td>\n",
              "      <td>88.110001</td>\n",
              "      <td>88.190002</td>\n",
              "      <td>8.840000</td>\n",
              "      <td>8.790000</td>\n",
              "      <td>371.779999</td>\n",
              "      <td>373.880005</td>\n",
              "    </tr>\n",
              "  </tbody>\n",
              "</table>\n",
              "<p>2517 rows × 10 columns</p>\n",
              "</div>"
            ],
            "text/plain": [
              "             GME_Open  GME_Close    TGT_Open  ...    F_Close    SPY_Open   SPY_Close\n",
              "Date                                          ...                                   \n",
              "2011-01-03  23.070000  22.910000   60.259998  ...  17.250000  126.709999  127.050003\n",
              "2011-01-04  22.969999  22.500000   60.639999  ...  17.379999  127.330002  126.980003\n",
              "2011-01-05  22.490000  21.889999   59.480000  ...  17.889999  126.580002  127.639999\n",
              "2011-01-06  21.290001  20.629999   55.810001  ...  18.219999  127.690002  127.389999\n",
              "2011-01-07  20.620001  20.770000   55.150002  ...  18.270000  127.559998  127.139999\n",
              "...               ...        ...         ...  ...        ...         ...         ...\n",
              "2020-12-24  21.010000  20.150000  175.979996  ...   8.860000  368.079987  369.000000\n",
              "2020-12-28  21.309999  20.990000  177.110001  ...   8.890000  371.739990  372.170013\n",
              "2020-12-29  20.820000  19.379999  177.110001  ...   8.820000  373.809998  371.459991\n",
              "2020-12-30  19.379999  19.260000  175.699997  ...   8.860000  372.339996  371.989990\n",
              "2020-12-31  19.250000  18.840000  174.410004  ...   8.790000  371.779999  373.880005\n",
              "\n",
              "[2517 rows x 10 columns]"
            ]
          },
          "execution_count": 14,
          "metadata": {},
          "output_type": "execute_result"
        }
      ],
      "source": [
        "st=st.dropna()\n",
        "st"
      ]
    },
    {
      "cell_type": "code",
      "execution_count": null,
      "metadata": {
        "colab": {
          "base_uri": "https://localhost:8080/",
          "height": 455
        },
        "id": "YrLP6_7lPA8Y",
        "outputId": "7f22111e-128f-4ad9-9532-be19bd49e420"
      },
      "outputs": [
        {
          "data": {
            "text/html": [
              "<div>\n",
              "<style scoped>\n",
              "    .dataframe tbody tr th:only-of-type {\n",
              "        vertical-align: middle;\n",
              "    }\n",
              "\n",
              "    .dataframe tbody tr th {\n",
              "        vertical-align: top;\n",
              "    }\n",
              "\n",
              "    .dataframe thead th {\n",
              "        text-align: right;\n",
              "    }\n",
              "</style>\n",
              "<table border=\"1\" class=\"dataframe\">\n",
              "  <thead>\n",
              "    <tr style=\"text-align: right;\">\n",
              "      <th></th>\n",
              "      <th>GME_Close</th>\n",
              "      <th>TGT_Close</th>\n",
              "      <th>BND_Close</th>\n",
              "      <th>F_Close</th>\n",
              "      <th>SPY_Close</th>\n",
              "    </tr>\n",
              "    <tr>\n",
              "      <th>Date</th>\n",
              "      <th></th>\n",
              "      <th></th>\n",
              "      <th></th>\n",
              "      <th></th>\n",
              "      <th></th>\n",
              "    </tr>\n",
              "  </thead>\n",
              "  <tbody>\n",
              "    <tr>\n",
              "      <th>2011-01-03</th>\n",
              "      <td>22.910000</td>\n",
              "      <td>60.770000</td>\n",
              "      <td>80.169998</td>\n",
              "      <td>17.250000</td>\n",
              "      <td>127.050003</td>\n",
              "    </tr>\n",
              "    <tr>\n",
              "      <th>2011-01-04</th>\n",
              "      <td>22.500000</td>\n",
              "      <td>59.990002</td>\n",
              "      <td>80.180000</td>\n",
              "      <td>17.379999</td>\n",
              "      <td>126.980003</td>\n",
              "    </tr>\n",
              "    <tr>\n",
              "      <th>2011-01-05</th>\n",
              "      <td>21.889999</td>\n",
              "      <td>58.939999</td>\n",
              "      <td>79.830002</td>\n",
              "      <td>17.889999</td>\n",
              "      <td>127.639999</td>\n",
              "    </tr>\n",
              "    <tr>\n",
              "      <th>2011-01-06</th>\n",
              "      <td>20.629999</td>\n",
              "      <td>54.930000</td>\n",
              "      <td>79.900002</td>\n",
              "      <td>18.219999</td>\n",
              "      <td>127.389999</td>\n",
              "    </tr>\n",
              "    <tr>\n",
              "      <th>2011-01-07</th>\n",
              "      <td>20.770000</td>\n",
              "      <td>55.049999</td>\n",
              "      <td>80.199997</td>\n",
              "      <td>18.270000</td>\n",
              "      <td>127.139999</td>\n",
              "    </tr>\n",
              "    <tr>\n",
              "      <th>...</th>\n",
              "      <td>...</td>\n",
              "      <td>...</td>\n",
              "      <td>...</td>\n",
              "      <td>...</td>\n",
              "      <td>...</td>\n",
              "    </tr>\n",
              "    <tr>\n",
              "      <th>2013-12-24</th>\n",
              "      <td>50.970001</td>\n",
              "      <td>61.709999</td>\n",
              "      <td>80.070000</td>\n",
              "      <td>15.190000</td>\n",
              "      <td>182.929993</td>\n",
              "    </tr>\n",
              "    <tr>\n",
              "      <th>2013-12-26</th>\n",
              "      <td>50.360001</td>\n",
              "      <td>62.480000</td>\n",
              "      <td>79.949997</td>\n",
              "      <td>15.330000</td>\n",
              "      <td>183.860001</td>\n",
              "    </tr>\n",
              "    <tr>\n",
              "      <th>2013-12-27</th>\n",
              "      <td>49.040001</td>\n",
              "      <td>62.150002</td>\n",
              "      <td>79.949997</td>\n",
              "      <td>15.300000</td>\n",
              "      <td>183.850006</td>\n",
              "    </tr>\n",
              "    <tr>\n",
              "      <th>2013-12-30</th>\n",
              "      <td>49.270000</td>\n",
              "      <td>62.470001</td>\n",
              "      <td>80.080002</td>\n",
              "      <td>15.280000</td>\n",
              "      <td>183.820007</td>\n",
              "    </tr>\n",
              "    <tr>\n",
              "      <th>2013-12-31</th>\n",
              "      <td>49.259998</td>\n",
              "      <td>63.270000</td>\n",
              "      <td>80.050003</td>\n",
              "      <td>15.430000</td>\n",
              "      <td>184.690002</td>\n",
              "    </tr>\n",
              "  </tbody>\n",
              "</table>\n",
              "<p>754 rows × 5 columns</p>\n",
              "</div>"
            ],
            "text/plain": [
              "            GME_Close  TGT_Close  BND_Close    F_Close   SPY_Close\n",
              "Date                                                              \n",
              "2011-01-03  22.910000  60.770000  80.169998  17.250000  127.050003\n",
              "2011-01-04  22.500000  59.990002  80.180000  17.379999  126.980003\n",
              "2011-01-05  21.889999  58.939999  79.830002  17.889999  127.639999\n",
              "2011-01-06  20.629999  54.930000  79.900002  18.219999  127.389999\n",
              "2011-01-07  20.770000  55.049999  80.199997  18.270000  127.139999\n",
              "...               ...        ...        ...        ...         ...\n",
              "2013-12-24  50.970001  61.709999  80.070000  15.190000  182.929993\n",
              "2013-12-26  50.360001  62.480000  79.949997  15.330000  183.860001\n",
              "2013-12-27  49.040001  62.150002  79.949997  15.300000  183.850006\n",
              "2013-12-30  49.270000  62.470001  80.080002  15.280000  183.820007\n",
              "2013-12-31  49.259998  63.270000  80.050003  15.430000  184.690002\n",
              "\n",
              "[754 rows x 5 columns]"
            ]
          },
          "execution_count": 15,
          "metadata": {},
          "output_type": "execute_result"
        }
      ],
      "source": [
        "df_years_3=st.loc[\"2011\":\"2013\",[\"GME_Close\",\"TGT_Close\",\"BND_Close\",\"F_Close\",\"SPY_Close\"]]\n",
        "df_years_3"
      ]
    },
    {
      "cell_type": "code",
      "execution_count": null,
      "metadata": {
        "colab": {
          "base_uri": "https://localhost:8080/",
          "height": 455
        },
        "id": "MVfTzGxj0pW3",
        "outputId": "0414e087-77e9-4289-a4c9-f30ca4f406f9"
      },
      "outputs": [
        {
          "data": {
            "text/html": [
              "<div>\n",
              "<style scoped>\n",
              "    .dataframe tbody tr th:only-of-type {\n",
              "        vertical-align: middle;\n",
              "    }\n",
              "\n",
              "    .dataframe tbody tr th {\n",
              "        vertical-align: top;\n",
              "    }\n",
              "\n",
              "    .dataframe thead th {\n",
              "        text-align: right;\n",
              "    }\n",
              "</style>\n",
              "<table border=\"1\" class=\"dataframe\">\n",
              "  <thead>\n",
              "    <tr style=\"text-align: right;\">\n",
              "      <th></th>\n",
              "      <th>GME_Close</th>\n",
              "      <th>TGT_Close</th>\n",
              "      <th>BND_Close</th>\n",
              "      <th>F_Close</th>\n",
              "      <th>SPY_Close</th>\n",
              "    </tr>\n",
              "    <tr>\n",
              "      <th>Date</th>\n",
              "      <th></th>\n",
              "      <th></th>\n",
              "      <th></th>\n",
              "      <th></th>\n",
              "      <th></th>\n",
              "    </tr>\n",
              "  </thead>\n",
              "  <tbody>\n",
              "    <tr>\n",
              "      <th>2011-01-04</th>\n",
              "      <td>-0.017896</td>\n",
              "      <td>-0.012835</td>\n",
              "      <td>0.000125</td>\n",
              "      <td>0.007536</td>\n",
              "      <td>-0.000551</td>\n",
              "    </tr>\n",
              "    <tr>\n",
              "      <th>2011-01-05</th>\n",
              "      <td>-0.027111</td>\n",
              "      <td>-0.017503</td>\n",
              "      <td>-0.004365</td>\n",
              "      <td>0.029344</td>\n",
              "      <td>0.005198</td>\n",
              "    </tr>\n",
              "    <tr>\n",
              "      <th>2011-01-06</th>\n",
              "      <td>-0.057561</td>\n",
              "      <td>-0.068035</td>\n",
              "      <td>0.000877</td>\n",
              "      <td>0.018446</td>\n",
              "      <td>-0.001959</td>\n",
              "    </tr>\n",
              "    <tr>\n",
              "      <th>2011-01-07</th>\n",
              "      <td>0.006786</td>\n",
              "      <td>0.002185</td>\n",
              "      <td>0.003755</td>\n",
              "      <td>0.002744</td>\n",
              "      <td>-0.001962</td>\n",
              "    </tr>\n",
              "    <tr>\n",
              "      <th>2011-01-10</th>\n",
              "      <td>-0.003370</td>\n",
              "      <td>0.003088</td>\n",
              "      <td>0.002369</td>\n",
              "      <td>0.002189</td>\n",
              "      <td>-0.001258</td>\n",
              "    </tr>\n",
              "    <tr>\n",
              "      <th>...</th>\n",
              "      <td>...</td>\n",
              "      <td>...</td>\n",
              "      <td>...</td>\n",
              "      <td>...</td>\n",
              "      <td>...</td>\n",
              "    </tr>\n",
              "    <tr>\n",
              "      <th>2013-12-24</th>\n",
              "      <td>0.008907</td>\n",
              "      <td>-0.002747</td>\n",
              "      <td>-0.005094</td>\n",
              "      <td>0.002640</td>\n",
              "      <td>0.002191</td>\n",
              "    </tr>\n",
              "    <tr>\n",
              "      <th>2013-12-26</th>\n",
              "      <td>-0.011968</td>\n",
              "      <td>0.012478</td>\n",
              "      <td>-0.001499</td>\n",
              "      <td>0.009217</td>\n",
              "      <td>0.005084</td>\n",
              "    </tr>\n",
              "    <tr>\n",
              "      <th>2013-12-27</th>\n",
              "      <td>-0.026211</td>\n",
              "      <td>-0.005282</td>\n",
              "      <td>0.000000</td>\n",
              "      <td>-0.001957</td>\n",
              "      <td>-0.000054</td>\n",
              "    </tr>\n",
              "    <tr>\n",
              "      <th>2013-12-30</th>\n",
              "      <td>0.004690</td>\n",
              "      <td>0.005149</td>\n",
              "      <td>0.001626</td>\n",
              "      <td>-0.001307</td>\n",
              "      <td>-0.000163</td>\n",
              "    </tr>\n",
              "    <tr>\n",
              "      <th>2013-12-31</th>\n",
              "      <td>-0.000203</td>\n",
              "      <td>0.012806</td>\n",
              "      <td>-0.000375</td>\n",
              "      <td>0.009817</td>\n",
              "      <td>0.004733</td>\n",
              "    </tr>\n",
              "  </tbody>\n",
              "</table>\n",
              "<p>753 rows × 5 columns</p>\n",
              "</div>"
            ],
            "text/plain": [
              "            GME_Close  TGT_Close  BND_Close   F_Close  SPY_Close\n",
              "Date                                                            \n",
              "2011-01-04  -0.017896  -0.012835   0.000125  0.007536  -0.000551\n",
              "2011-01-05  -0.027111  -0.017503  -0.004365  0.029344   0.005198\n",
              "2011-01-06  -0.057561  -0.068035   0.000877  0.018446  -0.001959\n",
              "2011-01-07   0.006786   0.002185   0.003755  0.002744  -0.001962\n",
              "2011-01-10  -0.003370   0.003088   0.002369  0.002189  -0.001258\n",
              "...               ...        ...        ...       ...        ...\n",
              "2013-12-24   0.008907  -0.002747  -0.005094  0.002640   0.002191\n",
              "2013-12-26  -0.011968   0.012478  -0.001499  0.009217   0.005084\n",
              "2013-12-27  -0.026211  -0.005282   0.000000 -0.001957  -0.000054\n",
              "2013-12-30   0.004690   0.005149   0.001626 -0.001307  -0.000163\n",
              "2013-12-31  -0.000203   0.012806  -0.000375  0.009817   0.004733\n",
              "\n",
              "[753 rows x 5 columns]"
            ]
          },
          "execution_count": 16,
          "metadata": {},
          "output_type": "execute_result"
        }
      ],
      "source": [
        "df_years_3=df_years_3.pct_change()\n",
        "df_years_3=df_years_3.dropna()\n",
        "df_years_3"
      ]
    },
    {
      "cell_type": "code",
      "execution_count": null,
      "metadata": {
        "id": "M8hXWunOBu4P"
      },
      "outputs": [],
      "source": [
        "no_of_portfolios=10000\n",
        "no_of_asset_classes=5\n",
        "matrix_of_return_values=df_years_3.values"
      ]
    },
    {
      "cell_type": "code",
      "execution_count": null,
      "metadata": {
        "id": "yn_X7NXZA2Tg"
      },
      "outputs": [],
      "source": [
        "def get_random_asset_weights(no_of_asset_classes):\n",
        "    random_asset_weights = np.random.rand(no_of_asset_classes)\n",
        "    random_asset_weights = random_asset_weights / random_asset_weights.sum()\n",
        "   \n",
        "    return np.asmatrix (random_asset_weights)"
      ]
    },
    {
      "cell_type": "code",
      "execution_count": null,
      "metadata": {
        "id": "lM3B8jFuBDMU"
      },
      "outputs": [],
      "source": [
        "def get_portfolio_statistics(asset_weights, matrix_of_return_values):\n",
        "    asset_means = np.mean(matrix_of_return_values, axis = 0)\n",
        "    asset_covariances = np.cov(matrix_of_return_values.T)\n",
        "    portfolio_mean = np.dot(asset_weights, asset_means)\n",
        "    #portfolio_mean = #todo second line if needed.\n",
        "    portfolio_standard_deviation = np.sqrt(asset_weights * asset_covariances * asset_weights.T)\n",
        "    #portfolio_standard_deviation = #todo second line if needed.\n",
        "    portfolio_sharpe_ratio = portfolio_mean / portfolio_standard_deviation \n",
        "    return portfolio_mean, portfolio_standard_deviation, portfolio_sharpe_ratio"
      ]
    },
    {
      "cell_type": "code",
      "execution_count": null,
      "metadata": {
        "id": "bMHhxoffBNls"
      },
      "outputs": [],
      "source": [
        "collection_of_random_asset_weights = []\n",
        "portfolio_means = []\n",
        "portfolio_standard_deviations = []\n",
        "portfolio_sharpe_ratios = []\n",
        "\n",
        "while len(collection_of_random_asset_weights)< no_of_portfolios:\n",
        "    random_asset_weights = get_random_asset_weights (no_of_asset_classes=no_of_asset_classes)\n",
        "    collection_of_random_asset_weights.append(random_asset_weights) \n",
        "    m,sd,sr = get_portfolio_statistics(random_asset_weights, matrix_of_return_values)\n",
        "    portfolio_means.append(m.item())\n",
        "    portfolio_standard_deviations.append(sd.item())\n",
        "    portfolio_sharpe_ratios.append(sr.item())"
      ]
    },
    {
      "cell_type": "code",
      "execution_count": null,
      "metadata": {
        "colab": {
          "base_uri": "https://localhost:8080/",
          "height": 265
        },
        "id": "M-GblrsMfo9w",
        "outputId": "d38db234-6f25-41a5-bda1-436c604d994d"
      },
      "outputs": [
        {
          "data": {
            "image/png": "[encoded data removed]",
            "text/plain": [
              "<Figure size 432x288 with 1 Axes>"
            ]
          },
          "metadata": {
            "needs_background": "light"
          },
          "output_type": "display_data"
        }
      ],
      "source": [
        "plt.plot(portfolio_standard_deviations, portfolio_means,'o', markersize = 3, color = 'lightskyblue') \n",
        "plt.show()"
      ]
    },
    {
      "cell_type": "code",
      "execution_count": null,
      "metadata": {
        "colab": {
          "base_uri": "https://localhost:8080/"
        },
        "id": "7KqsQveHAChq",
        "outputId": "aef61976-6677-41f4-8bf0-2f12328ec524"
      },
      "outputs": [
        {
          "data": {
            "text/plain": [
              "3180"
            ]
          },
          "execution_count": 22,
          "metadata": {},
          "output_type": "execute_result"
        }
      ],
      "source": [
        "index =np.argmax(portfolio_sharpe_ratios)\n",
        "index"
      ]
    },
    {
      "cell_type": "code",
      "execution_count": null,
      "metadata": {
        "colab": {
          "base_uri": "https://localhost:8080/"
        },
        "id": "ZuT8jvPlE66f",
        "outputId": "c46ea418-e719-4295-95de-ff44ee82e970"
      },
      "outputs": [
        {
          "name": "stdout",
          "output_type": "stream",
          "text": [
            "[[0.16663417 0.02795268 0.41914165 0.00237908 0.38389242]]\n",
            "0.06732056895630306\n"
          ]
        }
      ],
      "source": [
        "print(collection_of_random_asset_weights[index])\n",
        "print(portfolio_sharpe_ratios[index])"
      ]
    },
    {
      "cell_type": "code",
      "execution_count": null,
      "metadata": {
        "colab": {
          "base_uri": "https://localhost:8080/",
          "height": 265
        },
        "id": "dOnXOvQIFZrI",
        "outputId": "7a667498-8053-473a-b0b1-32e4ed88bf24"
      },
      "outputs": [
        {
          "data": {
            "image/png": "[encoded data removed]",
            "text/plain": [
              "<Figure size 432x288 with 1 Axes>"
            ]
          },
          "metadata": {
            "needs_background": "light"
          },
          "output_type": "display_data"
        }
      ],
      "source": [
        "x = np.linspace(0, max(portfolio_standard_deviations), 10000)\n",
        "y = portfolio_sharpe_ratios[index] * x\n",
        "plt.plot(portfolio_standard_deviations,portfolio_means, 'o', markersize = 3, color = 'lightskyblue')\n",
        "plt.plot(x, y, '-', linewidth = 2, color = 'green')\n",
        "plt.show()"
      ]
    },
    {
      "cell_type": "markdown",
      "metadata": {
        "id": "-y4H_0l6o7ps"
      },
      "source": []
    },
    {
      "cell_type": "code",
      "execution_count": null,
      "metadata": {
        "colab": {
          "base_uri": "https://localhost:8080/",
          "height": 81
        },
        "id": "6RnrB9sFFwGn",
        "outputId": "779fe958-f7fe-4e4a-da5a-cbf6ef47b39e"
      },
      "outputs": [
        {
          "data": {
            "text/html": [
              "<div>\n",
              "<style scoped>\n",
              "    .dataframe tbody tr th:only-of-type {\n",
              "        vertical-align: middle;\n",
              "    }\n",
              "\n",
              "    .dataframe tbody tr th {\n",
              "        vertical-align: top;\n",
              "    }\n",
              "\n",
              "    .dataframe thead th {\n",
              "        text-align: right;\n",
              "    }\n",
              "</style>\n",
              "<table border=\"1\" class=\"dataframe\">\n",
              "  <thead>\n",
              "    <tr style=\"text-align: right;\">\n",
              "      <th></th>\n",
              "      <th>GME_Close</th>\n",
              "      <th>TGT_Close</th>\n",
              "      <th>BND_Close</th>\n",
              "      <th>F_Close</th>\n",
              "      <th>SPY_Close</th>\n",
              "    </tr>\n",
              "  </thead>\n",
              "  <tbody>\n",
              "    <tr>\n",
              "      <th>2013-12-31</th>\n",
              "      <td>0.166634</td>\n",
              "      <td>0.027953</td>\n",
              "      <td>0.419142</td>\n",
              "      <td>0.002379</td>\n",
              "      <td>0.383892</td>\n",
              "    </tr>\n",
              "  </tbody>\n",
              "</table>\n",
              "</div>"
            ],
            "text/plain": [
              "            GME_Close  TGT_Close  BND_Close   F_Close  SPY_Close\n",
              "2013-12-31   0.166634   0.027953   0.419142  0.002379   0.383892"
            ]
          },
          "execution_count": 25,
          "metadata": {},
          "output_type": "execute_result"
        }
      ],
      "source": [
        "data=pd.DataFrame()\n",
        "data.loc[df_years_3.index[-1],df_years_3.columns]=collection_of_random_asset_weights[index]\n",
        "data.rename(columns={})"
      ]
    },
    {
      "cell_type": "code",
      "execution_count": null,
      "metadata": {
        "id": "AG-HoMi_nEm_"
      },
      "outputs": [],
      "source": [
        "weights =(0.234324,\t0.032973,\t0.474916,\t0.001196,\t0.256592)\n",
        "\n",
        "capital = 100_000"
      ]
    },
    {
      "cell_type": "code",
      "execution_count": null,
      "metadata": {
        "colab": {
          "base_uri": "https://localhost:8080/"
        },
        "id": "iU3tsugDvj8e",
        "outputId": "60d79b51-c819-47ed-ebbb-e0bf5e7fb4c6"
      },
      "outputs": [
        {
          "data": {
            "text/plain": [
              "1015.7087260498355"
            ]
          },
          "execution_count": 27,
          "metadata": {},
          "output_type": "execute_result"
        }
      ],
      "source": [
        "gme_shares =  (capital * weights[0]) / df[\"GME_Open\"].iloc[0]\n",
        "gme_shares"
      ]
    },
    {
      "cell_type": "code",
      "execution_count": null,
      "metadata": {
        "colab": {
          "base_uri": "https://localhost:8080/"
        },
        "id": "tA0_WVAlvz35",
        "outputId": "f3856c43-37e4-4482-e920-47b9e8551bce"
      },
      "outputs": [
        {
          "data": {
            "text/plain": [
              "54.717890671127826"
            ]
          },
          "execution_count": 28,
          "metadata": {},
          "output_type": "execute_result"
        }
      ],
      "source": [
        "tgt_shares =  (capital * weights[1]) / df[\"TGT_Open\"].iloc[0]\n",
        "tgt_shares"
      ]
    },
    {
      "cell_type": "code",
      "execution_count": null,
      "metadata": {
        "colab": {
          "base_uri": "https://localhost:8080/"
        },
        "id": "86CLD3YTvtfK",
        "outputId": "cd193c61-fa02-47e6-e9c0-deffee1fdb9f"
      },
      "outputs": [
        {
          "data": {
            "text/plain": [
              "593.4224756265484"
            ]
          },
          "execution_count": 29,
          "metadata": {},
          "output_type": "execute_result"
        }
      ],
      "source": [
        "bnd_shares =  (capital * weights[2]) / df[\"BND_Open\"].iloc[0]\n",
        "bnd_shares"
      ]
    },
    {
      "cell_type": "code",
      "execution_count": null,
      "metadata": {
        "colab": {
          "base_uri": "https://localhost:8080/"
        },
        "id": "vIEFVwIexQ5M",
        "outputId": "6da62aa8-446e-4a6b-aff9-616476ae3947"
      },
      "outputs": [
        {
          "data": {
            "text/plain": [
              "7.027026838030693"
            ]
          },
          "execution_count": 30,
          "metadata": {},
          "output_type": "execute_result"
        }
      ],
      "source": [
        "f_shares =  (capital * weights[3]) / df[\"F_Open\"].iloc[0]\n",
        "f_shares"
      ]
    },
    {
      "cell_type": "code",
      "execution_count": null,
      "metadata": {
        "colab": {
          "base_uri": "https://localhost:8080/"
        },
        "id": "52guQqbmxc7H",
        "outputId": "853b1f6e-35c1-49f2-f282-7da5f5819143"
      },
      "outputs": [
        {
          "data": {
            "text/plain": [
              "202.50335557886004"
            ]
          },
          "execution_count": 31,
          "metadata": {},
          "output_type": "execute_result"
        }
      ],
      "source": [
        "spy_shares =  (capital * weights[4]) / df[\"SPY_Open\"].iloc[0]\n",
        "spy_shares"
      ]
    },
    {
      "cell_type": "code",
      "execution_count": 47,
      "metadata": {
        "colab": {
          "base_uri": "https://localhost:8080/",
          "height": 286
        },
        "id": "UWqHnHuk0x_V",
        "outputId": "198c74f8-412c-449d-b2b3-345d30ad5e65"
      },
      "outputs": [
        {
          "data": {
            "text/plain": [
              "<matplotlib.axes._subplots.AxesSubplot at 0x7f848481a890>"
            ]
          },
          "execution_count": 47,
          "metadata": {},
          "output_type": "execute_result"
        },
        {
          "data": {
            "image/png": "[encoded data removed]",
            "text/plain": [
              "<Figure size 432x288 with 1 Axes>"
            ]
          },
          "metadata": {
            "needs_background": "light"
          },
          "output_type": "display_data"
        }
      ],
      "source": [
        "portfolio = (df[[\"GME_Close\", \"TGT_Close\", \"BND_Close\",\"F_Close\",\"SPY_Close\"]] * [gme_shares, tgt_shares, bnd_shares,f_shares,spy_shares]).sum(axis=1).plot()\n",
        "portfolio"
      ]
    },
    {
      "cell_type": "code",
      "execution_count": null,
      "metadata": {
        "id": "Mh-x4JoA6y2A"
      },
      "outputs": [],
      "source": [
        "# absolute_return_tf = (df_years_3['GME_Close'].iloc[-1]-capital)/capital\n",
        "# print(f\"Absolute_return_tf:%{np.round(absolute_return_tf,2)*100}\")\n",
        "\n",
        "# Calculate the CAGR or our trend-following trading strategy\n",
        "# CAGR_tf =((df_years_3['GME_Close'].iloc[-1]/capital)**(252/len(df)))-1\n",
        "# print(f\"CAGR_tf:%{np.round(CAGR_tf,2)*100}\")\n",
        "# Calculate the IR (Sharpe without RF-rate) of our trend-following trading strategy\n",
        "# information_ratio_tf = (df_years_3.GME_Close.pct_change().mean()/df_years_3.GME_Close.pct_change().std())*((252)**0.5)\n",
        "# print(f\"information_ratio_tf:%{np.round(information_ratio_tf,4)}\")\n",
        "#Plot the equity curve (hint: use 'account_val')\n",
        "# df_years_3.GME_Close.plot()"
      ]
    },
    {
      "cell_type": "code",
      "execution_count": null,
      "metadata": {
        "id": "94flhNwB1oE0"
      },
      "outputs": [],
      "source": [
        "# absolute_return_bh = ((df_years_3.[\"GME_Close\"].iloc[0]-df_years_3.[\"GME_Open\"].iloc[0])/df_years_3.[\"GME_Open\"].iloc[0])*100\n",
        "\n",
        "# CAGR_bh = ((df_years_3.[\"GME_Close\"].iloc[-1]/df_years_3.[\"GME_Open\"].iloc[0])**(252/len(df)))-1\n",
        "\n",
        "# information_ratio_bh = (df_years_3.[\"GME_Close\"].pct_change().mean()/df_years_3.[\"GME_Close\"].pct_change().std())*((252)**0.5)\n",
        "\n",
        "# ((df_years_3.[\"GME_Close\"].pct_change().dropna()+1).cumprod()*capital).plot()"
      ]
    },
    {
      "cell_type": "code",
      "execution_count": null,
      "metadata": {
        "id": "dQKMBWDu6wwJ"
      },
      "outputs": [],
      "source": []
    }
  ],
  "metadata": {
    "colab": {
      "collapsed_sections": [],
      "name": "Belt_Exam_Afrah_Alharbi.ipynb",
      "provenance": []
    },
    "kernelspec": {
      "display_name": "Python 3",
      "name": "python3"
    },
    "language_info": {
      "name": "python"
    }
  },
  "nbformat": 4,
  "nbformat_minor": 0
}
